{
    "nbformat_minor": 1, 
    "cells": [
        {
            "source": "## Introduction", 
            "cell_type": "markdown", 
            "metadata": {}
        }, 
        {
            "source": "&emsp; As we know from geography our planet Earth has different climate zones. Climate zones are areas with distinct climates, which occur in east-west direction around the Earth, and can be classified using different climatic parametres. Generally, climate zones are belt-shaped and circular around the Poles.\n<br>&emsp; The solar radiation reaches the ground on different parts of the Earth with different angles. On the equator, the sunlight reaches the ground almost perpendicularly, whilst at the poles the angle of the Sun is lower or even under the horizon during the polar night.\n<br>&emsp; Different climatic conditions, which arise regularly in certain areas, are summarized and described in the classification below.\n*  Tropical zone from 0\u00b0\u201323.5\u00b0(between the tropics)\n*  Subtropics from 23.5\u00b0\u201340\u00b0\n*  Temperate zone from 40\u00b0\u201360\u00b0\n*  Cold zone from 60\u00b0\u201390\u00b0", 
            "cell_type": "markdown", 
            "metadata": {}
        }, 
        {
            "source": "<img src=\"https://content.meteoblue.com/var/ezwebin_site/storage/images/media/meteoscool/genreal-climate-zones/climate_zones/231031-1-eng-GB/climate_zones_lightbox.png\"\n     width=\"700\"/>", 
            "cell_type": "markdown", 
            "metadata": {}
        }, 
        {
            "source": "## Business problem", 
            "cell_type": "markdown", 
            "metadata": {}
        }, 
        {
            "source": "There is such a consideration that many capitals are placed along the 40\u00b0 parallel, at which is the most cmfortable climate for living. Is it really so? And if so What venues are most popular in that capitals?", 
            "cell_type": "markdown", 
            "metadata": {}
        }
    ], 
    "nbformat": 4, 
    "metadata": {
        "kernelspec": {
            "display_name": "Python 3.6", 
            "name": "python3", 
            "language": "python"
        }, 
        "language_info": {
            "mimetype": "text/x-python", 
            "nbconvert_exporter": "python", 
            "version": "3.6.8", 
            "name": "python", 
            "pygments_lexer": "ipython3", 
            "file_extension": ".py", 
            "codemirror_mode": {
                "version": 3, 
                "name": "ipython"
            }
        }
    }
}